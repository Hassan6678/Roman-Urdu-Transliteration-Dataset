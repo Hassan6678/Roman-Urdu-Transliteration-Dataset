{
 "cells": [
  {
   "cell_type": "markdown",
   "metadata": {},
   "source": [
    "# Let's Do it"
   ]
  },
  {
   "cell_type": "code",
   "execution_count": 36,
   "metadata": {},
   "outputs": [
    {
     "name": "stderr",
     "output_type": "stream",
     "text": [
      "C:\\Users\\Hassan Raza\\AppData\\Local\\Programs\\Python\\Python37\\lib\\site-packages\\ipykernel_launcher.py:5: DeprecationWarning: executable_path has been deprecated, please pass in a Service object\n",
      "  \"\"\"\n",
      "C:\\Users\\Hassan Raza\\AppData\\Local\\Programs\\Python\\Python37\\lib\\site-packages\\ipykernel_launcher.py:14: DeprecationWarning: find_element_by_* commands are deprecated. Please use find_element() instead\n",
      "  \n",
      "C:\\Users\\Hassan Raza\\AppData\\Local\\Programs\\Python\\Python37\\lib\\site-packages\\ipykernel_launcher.py:17: DeprecationWarning: find_element_by_* commands are deprecated. Please use find_element() instead\n",
      "C:\\Users\\Hassan Raza\\AppData\\Local\\Programs\\Python\\Python37\\lib\\site-packages\\ipykernel_launcher.py:20: DeprecationWarning: find_element_by_* commands are deprecated. Please use find_element() instead\n"
     ]
    },
    {
     "name": "stdout",
     "output_type": "stream",
     "text": [
      "چل چل\n",
      "نیکسٹ ون\n"
     ]
    }
   ],
   "source": [
    "from selenium import webdriver\n",
    "from selenium.webdriver.common.keys import Keys\n",
    "from time import sleep\n",
    "#set chromodriver.exe path\n",
    "driver = webdriver.Chrome(executable_path=\"chromedriver.exe\")\n",
    "driver.implicitly_wait(0.5)\n",
    "#launch URL\n",
    "url = \"https://www.ijunoon.com/transliteration\"\n",
    "driver.get(url)\n",
    "#identify text box\n",
    "\n",
    "#print(\"r :\", r)\n",
    "list_ = ['chal chal', 'next one']\n",
    "for i in list_:\n",
    "    l = driver.find_element_by_class_name(\"translatetext\")\n",
    "    l.clear()\n",
    "    l.send_keys(i)\n",
    "    s = driver.find_element_by_class_name(\"translatesubmit\")\n",
    "    s.click()\n",
    "    #sleep(3)\n",
    "    r = driver.find_element_by_class_name(\"translatetextresult\")\n",
    "    t = r.text\n",
    "    print(t)"
   ]
  },
  {
   "cell_type": "code",
   "execution_count": null,
   "metadata": {},
   "outputs": [],
   "source": []
  },
  {
   "cell_type": "code",
   "execution_count": null,
   "metadata": {},
   "outputs": [],
   "source": []
  }
 ],
 "metadata": {
  "interpreter": {
   "hash": "bd76af128d7c40b48583a811a9c1879190eadb08cc3a308c5c2f1ddbc04e5a8b"
  },
  "kernelspec": {
   "display_name": "Python 3.7.1 64-bit (system)",
   "name": "python3"
  },
  "language_info": {
   "name": "python",
   "version": "3.7.1"
  },
  "orig_nbformat": 4
 },
 "nbformat": 4,
 "nbformat_minor": 2
}
